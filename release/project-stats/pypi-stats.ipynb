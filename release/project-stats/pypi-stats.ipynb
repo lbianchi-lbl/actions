{
 "cells": [
  {
   "cell_type": "code",
   "execution_count": null,
   "metadata": {
    "tags": [
     "parameters"
    ]
   },
   "outputs": [],
   "source": [
    "pypi_name = \"pyomo\"\n",
    "start_date = None\n",
    "end_date = None"
   ]
  },
  {
   "cell_type": "markdown",
   "metadata": {
    "tags": []
   },
   "source": [
    "# PyPI downloads\n",
    "\n",
    "This Jupyter notebook fetches download statistics from PyPI, which is used to distribute the software, and plots them. The PyPI site knows about \"mirrors\", which represent duplicate copies of the software but not real downloads, so we can exclude them from the counts.\n",
    "\n",
    "*Note: The statistics maintained by PyPI go back 180 days, so this script would need to be run periodically to track more than ~6 months of time.*\n"
   ]
  },
  {
   "cell_type": "code",
   "execution_count": null,
   "metadata": {},
   "outputs": [],
   "source": [
    "import numpy as np\n",
    "import pandas as pd\n",
    "import pypistats\n",
    "\n",
    "import plotly.express as px\n",
    "from plotly.subplots import make_subplots\n",
    "import plotly.graph_objects as go"
   ]
  },
  {
   "cell_type": "markdown",
   "metadata": {},
   "source": [
    "## Fetch statistics from PyPI\n",
    "Next, we fetch the data from PyPI using the `pypistats` package. This returns a Pandas dataframe that we can manipulate to extract only the downloads without mirrors, sorting by date, and calculating the cumulative number."
   ]
  },
  {
   "cell_type": "code",
   "execution_count": null,
   "metadata": {},
   "outputs": [],
   "source": [
    "data = (\n",
    "    pypistats.overall(\n",
    "        pypi_name,\n",
    "        total=\"daily\",\n",
    "        format=\"pandas\",\n",
    "        start_date=start_date,\n",
    "        end_date=end_date,\n",
    "    )\n",
    "    [lambda d: d[\"category\"].isin([\"without_mirrors\"])]\n",
    "    .set_index(\"date\")\n",
    "    .sort_index()\n",
    "    .assign(\n",
    "        cumulative_downloads=lambda d: d[\"downloads\"].cumsum()\n",
    "    )\n",
    ")\n",
    "data"
   ]
  },
  {
   "cell_type": "markdown",
   "metadata": {},
   "source": [
    "## Generate plot\n",
    "Now we plot the data, saving the plot as a file and displaying it below."
   ]
  },
  {
   "cell_type": "code",
   "execution_count": null,
   "metadata": {},
   "outputs": [],
   "source": [
    "def _make_multi_axes(\n",
    "        df,\n",
    "        x: str,\n",
    "        y: str,\n",
    "        y_secondary: str,\n",
    "    ):\n",
    "    fig = make_subplots(specs=[[{\"secondary_y\": True}]])\n",
    "    x_data = df[x]\n",
    "    \n",
    "    return (\n",
    "        fig\n",
    "        .add_trace(\n",
    "            go.Scatter(\n",
    "                x=x_data,\n",
    "                y=df[y],\n",
    "                mode=\"lines+markers\",\n",
    "                name=y,\n",
    "            ),\n",
    "            secondary_y=False,\n",
    "        )\n",
    "        .add_trace(\n",
    "            go.Scatter(\n",
    "                x=x_data,\n",
    "                y=df[y_secondary],\n",
    "                mode=\"lines+markers\",\n",
    "                name=y_secondary,\n",
    "            ),\n",
    "            secondary_y=True,\n",
    "        )\n",
    "    )\n",
    "\n",
    "(\n",
    "    data\n",
    "    .pipe(\n",
    "        _make_multi_axes,\n",
    "        x=\"date\",\n",
    "        y=\"cumulative_downloads\",\n",
    "        y_secondary=\"downloads\"\n",
    "    )\n",
    "    .update_layout(\n",
    "        title=f\"Download counts for package: {pypi_name}\"\n",
    "    )\n",
    ")"
   ]
  },
  {
   "cell_type": "code",
   "execution_count": null,
   "metadata": {},
   "outputs": [],
   "source": [
    "with pd.option_context('display.max_rows', None):\n",
    "    display(data)"
   ]
  }
 ],
 "metadata": {
  "kernelspec": {
   "display_name": "project-stats",
   "language": "python",
   "name": "project-stats"
  },
  "language_info": {
   "codemirror_mode": {
    "name": "ipython",
    "version": 3
   },
   "file_extension": ".py",
   "mimetype": "text/x-python",
   "name": "python",
   "nbconvert_exporter": "python",
   "pygments_lexer": "ipython3",
   "version": "3.11.11"
  }
 },
 "nbformat": 4,
 "nbformat_minor": 4
}
